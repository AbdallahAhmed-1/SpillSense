{
 "cells": [
  {
   "cell_type": "code",
   "execution_count": 1,
   "id": "f85975e0",
   "metadata": {},
   "outputs": [
    {
     "name": "stdout",
     "output_type": "stream",
     "text": [
      "Success\n"
     ]
    }
   ],
   "source": [
    "import mysql.connector\n",
    "print(\"Success\")"
   ]
  },
  {
   "cell_type": "code",
   "execution_count": 1,
   "id": "26f873b9",
   "metadata": {},
   "outputs": [
    {
     "name": "stdout",
     "output_type": "stream",
     "text": [
      "Connecting to DB: oilgas_rca\n",
      "{'host': 'localhost', 'user': 'root', 'password': 'Guerou@971', 'database': 'oilgas_rca'}\n",
      "New file_id: b2c2fc5c-c49e-4c1a-86f4-c6de59a13fdb\n",
      "Fetched info: {'file_id': 'b2c2fc5c-c49e-4c1a-86f4-c6de59a13fdb', 'file_name': 'GM01.mat', 'file_path': 'data/raw/mat/GM01.mat', 'modality': 'mat', 'upload_time': datetime.datetime(2025, 7, 9, 14, 46, 22), 'linked_scan_id': None, 'additional_meta': None}\n",
      "GM01.mat 2025-07-09 14:46:22\n",
      "GM01.mat 2025-07-09 13:46:43\n",
      "GM01.mat 2025-07-09 13:46:14\n"
     ]
    }
   ],
   "source": [
    "from db.db_utils import insert_file_metadata, get_file_by_id, get_latest_files\n",
    "\n",
    "# Insert a new file\n",
    "file_id = insert_file_metadata(\"GM01.mat\", \"data/raw/mat/GM01.mat\", \"mat\")\n",
    "print(\"New file_id:\", file_id)\n",
    "\n",
    "# Fetch that file\n",
    "info = get_file_by_id(file_id)\n",
    "print(\"Fetched info:\", info)\n",
    "\n",
    "# Get latest 5 uploads\n",
    "recent = get_latest_files(5)\n",
    "for f in recent:\n",
    "    print(f[\"file_name\"], f[\"upload_time\"])\n"
   ]
  },
  {
   "cell_type": "code",
   "execution_count": 4,
   "id": "fe787698",
   "metadata": {},
   "outputs": [
    {
     "name": "stdout",
     "output_type": "stream",
     "text": [
      "/Users/abdalla/Documents/ADNOC Panorama internship/Untitled/venv-py311/bin/python\n"
     ]
    }
   ],
   "source": [
    "import sys\n",
    "print(sys.executable)"
   ]
  },
  {
   "cell_type": "code",
   "execution_count": 1,
   "id": "c7df0aea",
   "metadata": {},
   "outputs": [
    {
     "name": "stdout",
     "output_type": "stream",
     "text": [
      "Connecting to DB: oilgas_rca\n",
      "✅ Inserted scene GM01_100003_20230103\n",
      "{'scene_id': 'GM01_100003_20230103', 'site_code': 'GM01', 'spill_number': '100003', 'spill_date': datetime.date(2023, 1, 3), 'csv_path': 'data/raw/csv/GM01_100003_20230103.csv', 'hsi_path': 'data/raw/mat/GM01_100003_20230103.mat', 'img_path': 'data/raw/jpg/GM01_100003_20230103.jpg'}\n"
     ]
    }
   ],
   "source": [
    "from agents.linker_agent import LinkerAgent\n",
    "\n",
    "agent = LinkerAgent()\n",
    "\n",
    "# Simulate some inputs\n",
    "csv_meta = {\"file_name\": \"GM01_100003_20230103.csv\", \"file_path\": \"data/raw/csv/GM01_100003_20230103.csv\"}\n",
    "hsi_file = \"data/raw/mat/GM01_100003_20230103.mat\"\n",
    "img_file = \"data/raw/jpg/GM01_100003_20230103.jpg\"\n",
    "\n",
    "# Try linking\n",
    "scene = agent.link_modalities(csv_meta=csv_meta, hsi_file=hsi_file, img_file=img_file)\n",
    "print(scene)"
   ]
  },
  {
   "cell_type": "code",
   "execution_count": 1,
   "id": "bc19c54f",
   "metadata": {},
   "outputs": [
    {
     "name": "stdout",
     "output_type": "stream",
     "text": [
      "Connecting to DB: oilgas_rca\n",
      "✅ Scene GM01_100003_20230103 inserted or updated.\n",
      "✅ Scene linked and inserted successfully.\n",
      "Scene ID: GM01_100003_20230103\n",
      "Scene DB Record: {'scene_id': 'GM01_100003_20230103', 'csv_file_id': '5ce64c79-77d5-4902-8dd8-60601896c1d7', 'mat_file_id': None, 'jpg_file_id': None, 'site_code': 'GM01', 'spill_number': '100003', 'spill_date': datetime.date(2023, 1, 3), 'lat': None, 'lon': None, 'tags': None, 'created_at': datetime.datetime(2025, 7, 9, 19, 12, 50), 'scene_status': 'new', 'uuid': '3a8612e0-ce74-4b86-a426-b9247a88b1c9', 'hsi_file_id': '918bdb7f-c83e-47cd-9aac-e2ddac872847', 'img_file_id': '29bd1790-f464-44c4-a671-b99732405ccd'}\n"
     ]
    }
   ],
   "source": [
    "from agents.linker_agent import LinkerAgent\n",
    "from db.db_utils import get_scene_by_id, insert_file_metadata\n",
    "\n",
    "\n",
    "csv_id = insert_file_metadata(\"GM01_100003_20230103.csv\", \"data/raw/csv/GM01_100003_20230103.csv\", \"csv\")\n",
    "hsi_id = insert_file_metadata(\"GM01_100003_20230103.mat\", \"data/raw/mat/GM01_100003_20230103.mat\", \"mat\")\n",
    "img_id = insert_file_metadata(\"GM01_100003_20230103.jpg\", \"data/raw/jpg/GM01_100003_20230103.jpg\", \"jpg\")\n",
    "\n",
    "# Step 2: Run linker\n",
    "agent = LinkerAgent()\n",
    "scene = agent.link_modalities(\n",
    "    csv_meta={\"file_id\": csv_id, \"file_name\": \"GM01_100003_20230103.csv\"},\n",
    "    hsi_meta={\"file_id\": hsi_id, \"file_name\": \"GM01_100003_20230103.mat\"},\n",
    "    img_meta={\"file_id\": img_id, \"file_name\": \"GM01_100003_20230103.jpg\"},\n",
    ")\n",
    "\n",
    "# Step 3: Check inserted scene\n",
    "scene_id = scene[\"scene_id\"]\n",
    "db_scene = get_scene_by_id(scene_id)\n",
    "\n",
    "print(\"✅ Scene linked and inserted successfully.\")\n",
    "print(\"Scene ID:\", scene_id)\n",
    "print(\"Scene DB Record:\", db_scene)"
   ]
  },
  {
   "cell_type": "code",
   "execution_count": 1,
   "id": "ca0235ea",
   "metadata": {},
   "outputs": [
    {
     "name": "stdout",
     "output_type": "stream",
     "text": [
      "Connecting to DB: oilgas_rca\n",
      "✅ Scene loaded successfully.\n",
      "CSV File: {'file_id': '5ce64c79-77d5-4902-8dd8-60601896c1d7', 'file_name': 'GM01_100003_20230103.csv', 'file_path': 'data/raw/csv/GM01_100003_20230103.csv', 'modality': 'csv', 'upload_time': datetime.datetime(2025, 7, 9, 20, 13, 18), 'linked_scan_id': None, 'additional_meta': None, 'linked_scene_id': None}\n",
      "HSI File: {'file_id': '918bdb7f-c83e-47cd-9aac-e2ddac872847', 'file_name': 'GM01_100003_20230103.mat', 'file_path': 'data/raw/mat/GM01_100003_20230103.mat', 'modality': 'mat', 'upload_time': datetime.datetime(2025, 7, 9, 20, 13, 18), 'linked_scan_id': None, 'additional_meta': None, 'linked_scene_id': None}\n",
      "IMG File: {'file_id': '29bd1790-f464-44c4-a671-b99732405ccd', 'file_name': 'GM01_100003_20230103.jpg', 'file_path': 'data/raw/jpg/GM01_100003_20230103.jpg', 'modality': 'jpg', 'upload_time': datetime.datetime(2025, 7, 9, 20, 13, 18), 'linked_scan_id': None, 'additional_meta': None, 'linked_scene_id': None}\n"
     ]
    }
   ],
   "source": [
    "# test_scene_loader.py\n",
    "\n",
    "from scripts.query_loader import SceneLoaderAgent\n",
    "\n",
    "scene_id = \"GM01_100003_20230103\"\n",
    "\n",
    "loader = SceneLoaderAgent()\n",
    "result = loader.load_scene(scene_id)\n",
    "\n",
    "if result:\n",
    "    print(\"✅ Scene loaded successfully.\")\n",
    "    print(\"CSV File:\", result['csv'])\n",
    "    print(\"HSI File:\", result['hsi'])\n",
    "    print(\"IMG File:\", result['img'])\n",
    "else:\n",
    "    print(\"⚠️ No data returned.\")"
   ]
  },
  {
   "cell_type": "code",
   "execution_count": 2,
   "id": "47dbf074",
   "metadata": {},
   "outputs": [
    {
     "name": "stdout",
     "output_type": "stream",
     "text": [
      "Connecting to DB: oilgas_rca\n"
     ]
    },
    {
     "ename": "ImportError",
     "evalue": "cannot import name 'insert_file_metadata' from 'db.db_utils' (/Users/abdalla/Documents/ADNOC Panorama internship/Untitled/db/db_utils.py)",
     "output_type": "error",
     "traceback": [
      "\u001b[31m---------------------------------------------------------------------------\u001b[39m",
      "\u001b[31mImportError\u001b[39m                               Traceback (most recent call last)",
      "\u001b[36mCell\u001b[39m\u001b[36m \u001b[39m\u001b[32mIn[2]\u001b[39m\u001b[32m, line 1\u001b[39m\n\u001b[32m----> \u001b[39m\u001b[32m1\u001b[39m \u001b[38;5;28;01mfrom\u001b[39;00m\u001b[38;5;250m \u001b[39m\u001b[34;01mdb\u001b[39;00m\u001b[34;01m.\u001b[39;00m\u001b[34;01mdb_utils\u001b[39;00m\u001b[38;5;250m \u001b[39m\u001b[38;5;28;01mimport\u001b[39;00m insert_file_metadata\n\u001b[32m      3\u001b[39m file_id = insert_file_metadata(\n\u001b[32m      4\u001b[39m     file_name=\u001b[33m\"\u001b[39m\u001b[33msmall_spill_incidents.csv\u001b[39m\u001b[33m\"\u001b[39m,\n\u001b[32m      5\u001b[39m     file_path=\u001b[33m\"\u001b[39m\u001b[33mdata/raw/csv/small_spill_incidents.csv\u001b[39m\u001b[33m\"\u001b[39m,\n\u001b[32m      6\u001b[39m     modality=\u001b[33m\"\u001b[39m\u001b[33mcsv\u001b[39m\u001b[33m\"\u001b[39m\n\u001b[32m      7\u001b[39m )\n\u001b[32m      9\u001b[39m \u001b[38;5;28mprint\u001b[39m(\u001b[33m\"\u001b[39m\u001b[33m✅ Inserted file_id:\u001b[39m\u001b[33m\"\u001b[39m, file_id)\n",
      "\u001b[31mImportError\u001b[39m: cannot import name 'insert_file_metadata' from 'db.db_utils' (/Users/abdalla/Documents/ADNOC Panorama internship/Untitled/db/db_utils.py)"
     ]
    }
   ],
   "source": [
    "from db.db_utils import insert_file_metadata\n",
    "\n",
    "file_id = insert_file_metadata(\n",
    "    file_name=\"small_spill_incidents.csv\",\n",
    "    file_path=\"data/raw/csv/small_spill_incidents.csv\",\n",
    "    modality=\"csv\"\n",
    ")\n",
    "\n",
    "print(\"✅ Inserted file_id:\", file_id)\n"
   ]
  },
  {
   "cell_type": "code",
   "execution_count": 3,
   "id": "b085d5bf",
   "metadata": {},
   "outputs": [
    {
     "name": "stdout",
     "output_type": "stream",
     "text": [
      "🚀 Bulk inserting all raw files into MySQL...\n",
      "✅ Inserted simulated_rca_input.csv [csv]\n",
      "✅ Inserted simulated_rca_dataset_v2.csv [csv]\n",
      "✅ Inserted small_spill_incidents.csv [csv]\n",
      "✅ Inserted simulated_spill_data.csv [csv]\n",
      "✅ Inserted rca_simulated_data.csv [csv]\n",
      "✅ Inserted GM18.mat [mat]\n",
      "✅ Inserted GM09.mat [mat]\n",
      "✅ Inserted GM08.mat [mat]\n",
      "✅ Inserted GM11.mat [mat]\n",
      "✅ Inserted GM10.mat [mat]\n",
      "✅ Inserted GM12.mat [mat]\n",
      "✅ Inserted GM13.mat [mat]\n",
      "✅ Inserted GM17.mat [mat]\n",
      "✅ Inserted GM16.mat [mat]\n",
      "✅ Inserted GM14.mat [mat]\n",
      "✅ Inserted GM15.mat [mat]\n",
      "🎉 Done.\n"
     ]
    }
   ],
   "source": [
    "# scripts/bulk_insert_files.py\n",
    "\n",
    "import os\n",
    "import uuid\n",
    "from datetime import datetime\n",
    "from db.db_utils import get_connection\n",
    "\n",
    "\n",
    "RAW_DIR = \"data/raw\"\n",
    "SUPPORTED_MODALITIES = [\"csv\", \"mat\", \"jpg\"]\n",
    "\n",
    "\n",
    "def insert_file(file_name, file_path, modality):\n",
    "    file_id = str(uuid.uuid4())\n",
    "    upload_time = datetime.now().strftime('%Y-%m-%d %H:%M:%S')\n",
    "\n",
    "    sql = \"\"\"\n",
    "        INSERT INTO files_metadata (\n",
    "            file_id, file_name, file_path, modality, upload_time\n",
    "        )\n",
    "        VALUES (%s, %s, %s, %s, %s)\n",
    "        ON DUPLICATE KEY UPDATE\n",
    "            file_name = VALUES(file_name),\n",
    "            file_path = VALUES(file_path),\n",
    "            modality = VALUES(modality)\n",
    "    \"\"\"\n",
    "\n",
    "    conn = get_connection()\n",
    "    cursor = conn.cursor()\n",
    "    cursor.execute(sql, (file_id, file_name, file_path, modality, upload_time))\n",
    "    conn.commit()\n",
    "    cursor.close()\n",
    "    conn.close()\n",
    "    print(f\"✅ Inserted {file_name} [{modality}]\")\n",
    "\n",
    "\n",
    "def bulk_insert_all():\n",
    "    for modality in SUPPORTED_MODALITIES:\n",
    "        dir_path = os.path.join(RAW_DIR, modality)\n",
    "        if not os.path.exists(dir_path):\n",
    "            continue\n",
    "\n",
    "        for fname in os.listdir(dir_path):\n",
    "            fpath = os.path.join(dir_path, fname)\n",
    "            if os.path.isfile(fpath):\n",
    "                insert_file(\n",
    "                    file_name=fname,\n",
    "                    file_path=fpath,\n",
    "                    modality=modality\n",
    "                )\n",
    "\n",
    "\n",
    "if __name__ == \"__main__\":\n",
    "    print(\"🚀 Bulk inserting all raw files into MySQL...\")\n",
    "    bulk_insert_all()\n",
    "    print(\"🎉 Done.\")\n"
   ]
  },
  {
   "cell_type": "code",
   "execution_count": 4,
   "id": "04a923dc",
   "metadata": {},
   "outputs": [
    {
     "name": "stdout",
     "output_type": "stream",
     "text": [
      "{'img': (2085, 682, 224), 'map': (2085, 682)}\n"
     ]
    }
   ],
   "source": [
    "import scipy.io as sio, numpy as np, pprint\n",
    "mat = sio.loadmat(\"data/processed/mat/GM05.mat\")   # file is already moved\n",
    "pprint.pprint({k: np.asarray(v).shape for k, v in mat.items() if not k.startswith(\"__\")})"
   ]
  }
 ],
 "metadata": {
  "kernelspec": {
   "display_name": "venv-py311",
   "language": "python",
   "name": "python3"
  },
  "language_info": {
   "codemirror_mode": {
    "name": "ipython",
    "version": 3
   },
   "file_extension": ".py",
   "mimetype": "text/x-python",
   "name": "python",
   "nbconvert_exporter": "python",
   "pygments_lexer": "ipython3",
   "version": "3.11.13"
  }
 },
 "nbformat": 4,
 "nbformat_minor": 5
}
